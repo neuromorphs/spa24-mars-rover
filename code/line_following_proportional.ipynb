{
 "cells": [
  {
   "cell_type": "code",
   "execution_count": 4,
   "id": "45ea1968",
   "metadata": {},
   "outputs": [],
   "source": [
    "# mars rover action plan\n",
    "# visualization in Nengo\n",
    "# trajectory following w/ adaptive control in Nengo\n",
    "# interface w/ pioneer in Coppelia"
   ]
  },
  {
   "cell_type": "code",
   "execution_count": 5,
   "id": "7e7f13d8",
   "metadata": {},
   "outputs": [],
   "source": [
    "import numpy as np\n",
    "\n",
    "from nengo_gui.ipython import IPythonViz\n",
    "import nengo\n",
    "\n",
    "\n",
    "def rectangle(x=0, y=0, width=1, height=1, color='white', outline_color='black', outline_width=.1):\n",
    "    return f'<rect width=\"{width}\" height=\"{height}\" style=\"fill:{color};stroke:{outline_color};stroke-width:{outline_width}\" transform=\"translate({x},{y})\"/>'\n",
    "\n",
    "def circle(x=0, y=0, r=30, fill='purple', stroke = 'white'):\n",
    "    return f'<circle cx=\"{x}\" cy=\"{y}\" r=\"{r}\" fill=\"{fill}\" stroke=\"{stroke}\"/>'\n",
    "\n",
    "def line(x1 = 100, y1 = 100, x2 = 900, y2 = 900, color='black', width=5):\n",
    "    return f'<line x1=\"{x1}\" y1=\"{y1}\" x2=\"{x2}\" y2=\"{y2}\" style=\"stroke:{color};stroke-width:{width}\"/>'\n",
    "\n",
    "def canvas(shape_list, width=10, height=10):\n",
    "    svg = f'<svg width=\"100%%\" height=\"100%%\" viewbox=\"0 0 {width} {height}\">'\n",
    "    for shape in shape_list:\n",
    "        svg += shape\n",
    "    svg += '</svg>'\n",
    "    return svg\n",
    "\n",
    "class PathEnvironment(object):\n",
    "    '''\n",
    "    Defines a dynamic environment for a path-following robot.\n",
    "        Arguments:\n",
    "            size : size of square environment. Default = 1000.\n",
    "            dt   : size of simulation timestep, in seconds. Default is 0.01.\n",
    "\n",
    "        Methods:\n",
    "            __call__:\n",
    "                Updates the environment, defined by the desired path.\n",
    "                Returns distance of the agent from the path. \n",
    "\n",
    "    '''\n",
    "    def __init__(self,size=1000,dt=0.01):\n",
    "        self.size = size\n",
    "        self.dt = dt\n",
    "        self._nengo_html_ = ''\n",
    "        \n",
    "        # define a line in the environment to follow\n",
    "        self.x1 = 100\n",
    "        self.y1 = 100\n",
    "        self.x2 = 900\n",
    "        self.y2 = 900\n",
    "        \n",
    "        # agent position\n",
    "        self.ax = 335\n",
    "        self.ay = 603\n",
    "        \n",
    "    def __call__(self,t,input_):\n",
    "        \n",
    "        p2x = input_[0]\n",
    "        p2y = input_[1]\n",
    "        avx = input_[2]\n",
    "        avy = input_[3]\n",
    "        \n",
    "        self.x2 = p2x\n",
    "        self.y2 = p2y\n",
    "        \n",
    "        self.ax += avx * self.dt\n",
    "        self.ay += avy * self.dt\n",
    "        \n",
    "        self.render()\n",
    "        \n",
    "        # compute error vector to the closest point on the path\n",
    "        m = (self.y2-self.y1)/(self.x2-self.x1)\n",
    "        b = self.y1 - m*self.x1\n",
    "        \n",
    "        m_perp = -1/m\n",
    "        b_perp = self.ay - m_perp*self.ax\n",
    "        \n",
    "        x_soln = (b-b_perp)/(m_perp-m)\n",
    "        y_soln = m * x_soln + b\n",
    "        \n",
    "        error = np.array([y_soln-self.ay,x_soln-self.ax])\n",
    "        \n",
    "        return error\n",
    "    \n",
    "    def render(self):\n",
    "        # generate the shape list for html rendering\n",
    "        shape_list = []\n",
    "        shape_list.append( line( x1 = self.x1, y1 = self.y1, x2 = self.x2, y2 = self.y2 ) )\n",
    "        shape_list.append( circle( x = self.ax, y = self.ay ) )\n",
    "\n",
    "        # generate the html from the list of shapes\n",
    "        self._nengo_html_ = canvas(shape_list, width = self.size,height=self.size)\n",
    "\n",
    "size = 1000\n",
    "dt = 0.01\n",
    "kp = 0.2\n",
    "\n",
    "with nengo.Network() as model:\n",
    "    \n",
    "    # allow the user to play god and shape the environment\n",
    "    path_end_point = nengo.Node([900, 900])\n",
    "    \n",
    "    # create a node to accept the desired state\n",
    "    # v_stim = nengo.Node( [0,0] )#output = lambda t: [np.sin(2*np.pi*t)*100,np.cos(2*np.pi*t)*100] )\n",
    "    \n",
    "    # create the environment\n",
    "    env = nengo.Node( PathEnvironment( size = size, dt = dt ), size_in = 4, size_out = 2 )\n",
    "    nengo.Connection( path_end_point, env[:2], synapse = None)\n",
    "    # nengo.Connection( v_stim, env[2:] )\n",
    "    \n",
    "    # compute the error -- proportional only\n",
    "    def control( error ):\n",
    "        print(error)\n",
    "        return - kp * error\n",
    "    \n",
    "    controller_pop = nengo.Ensemble(\n",
    "                        n_neurons = 1000,\n",
    "                        dimensions = 2,\n",
    "                        radius = 500,\n",
    "                        )\n",
    "    nengo.Connection( env, controller_pop )\n",
    "    nengo.Connection( controller_pop, env[2:], function = control)\n",
    "    \n",
    "    #controller = nengo.Node( output = control, size_in =  2, size_out = 2 )\n",
    "    # pass the error computed by the environment to the controller\n",
    "    #nengo.Connection( env, controller, synapse = None )\n",
    "    #nengo.Connection( controller, env[2:], synapse = 0 )"
   ]
  },
  {
   "cell_type": "code",
   "execution_count": 6,
   "id": "66c65069",
   "metadata": {
    "scrolled": false
   },
   "outputs": [
    {
     "data": {
      "text/html": [
       "\n",
       "            <script type=\"text/javascript\" id=\"3ec59d09-8a15-4481-835e-426aeb8cfd1b\">\n",
       "            {\n",
       "                let req = new XMLHttpRequest();\n",
       "                req.addEventListener(\"load\", function() {\n",
       "                    if (this.status != 200 && this.response != 'OK') {\n",
       "                        let p = document.getElementById('3ec59d09-8a15-4481-835e-426aeb8cfd1b').parentNode;\n",
       "                        p.innerHTML +=\n",
       "                            'The nengo_gui.jupyter notebook server ' +\n",
       "                            'extension was not loaded. Please activate it ' +\n",
       "                            'with the following command:' +\n",
       "                            '<pre>jupyter serverextension enable ' +\n",
       "                            'nengo_gui.jupyter</pre>';\n",
       "                        p.classList.add('output_stderr');\n",
       "                    }\n",
       "                });\n",
       "                req.open('GET', './nengo/check', true);\n",
       "                req.send();\n",
       "            }\n",
       "            </script>\n",
       "        "
      ],
      "text/plain": [
       "<IPython.core.display.HTML object>"
      ]
     },
     "metadata": {},
     "output_type": "display_data"
    },
    {
     "data": {
      "application/vdom.v1+json": {
       "attributes": {
        "id": "a99542b4-94c9-4be9-a92e-197d0a9cf816"
       },
       "children": [
        {
         "attributes": {
          "allowfullscreen": "allowfullscreen",
          "class": "cell",
          "frameborder": "0",
          "height": "600",
          "src": "./nengo/51006/?token=f8e75bef6add86ddecc8bb41a3892c6ce820acfc61350374",
          "style": {
           "border": "1px solid #eee",
           "boxSizing": "border-box"
          },
          "width": "100%"
         },
         "tagName": "iframe"
        }
       ],
       "tagName": "div"
      },
      "text/html": [
       "\n",
       "                <div id=\"9a44255b-878d-483c-8ada-04bfbc6b0915\">\n",
       "                    <iframe\n",
       "                        src=\"./nengo/51006/?token=f8e75bef6add86ddecc8bb41a3892c6ce820acfc61350374\"\n",
       "                        width=\"100%\"\n",
       "                        height=\"600\"\n",
       "                        frameborder=\"0\"\n",
       "                        class=\"cell\"\n",
       "                        style=\"border: 1px solid #eee; box-sizing: border-box;\"\n",
       "                        allowfullscreen></iframe>\n",
       "                </div>\n",
       "            "
      ]
     },
     "metadata": {},
     "output_type": "display_data"
    }
   ],
   "source": [
    "import nengo_gui.jupyter\n",
    "nengo_gui.jupyter.InlineGUI(model, cfg='line_prop_control.cfg')"
   ]
  }
 ],
 "metadata": {
  "kernelspec": {
   "display_name": "Python 3 (ipykernel)",
   "language": "python",
   "name": "python3"
  },
  "language_info": {
   "codemirror_mode": {
    "name": "ipython",
    "version": 3
   },
   "file_extension": ".py",
   "mimetype": "text/x-python",
   "name": "python",
   "nbconvert_exporter": "python",
   "pygments_lexer": "ipython3",
   "version": "3.9.13"
  }
 },
 "nbformat": 4,
 "nbformat_minor": 5
}
